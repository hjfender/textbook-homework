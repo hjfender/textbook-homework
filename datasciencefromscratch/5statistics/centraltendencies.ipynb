{
 "cells": [
  {
   "cell_type": "code",
   "execution_count": 4,
   "metadata": {},
   "outputs": [
    {
     "data": {
      "image/png": "[encoded data removed]",
      "text/plain": [
       "<Figure size 432x288 with 1 Axes>"
      ]
     },
     "metadata": {
      "needs_background": "light"
     },
     "output_type": "display_data"
    },
    {
     "name": "stdout",
     "output_type": "stream",
     "text": [
      "204\n",
      "100\n",
      "1\n",
      "1\n",
      "1\n",
      "49\n"
     ]
    }
   ],
   "source": [
    "# %load describingdata.py\n",
    "from matplotlib import pyplot as plt\n",
    "from collections import Counter\n",
    "from scipy import stats\n",
    "import random\n",
    "\n",
    "num_friends = [100, 49, 41, 40, 25,\n",
    "               21, 21, 19, 19, 18,\n",
    "               18, 16, 15, 15, 15,\n",
    "               15, 14, 14, 13, 13,\n",
    "               13, 13, 12, 12, 11,\n",
    "               10, 10, 10, 10, 10,\n",
    "               10, 10, 10, 10, 10,\n",
    "               10, 10, 10, 10, 10,\n",
    "               9, 9, 9, 9, 9,\n",
    "               9, 9, 9, 9, 9,\n",
    "               9, 9, 9, 9, 9,\n",
    "               9, 9, 9, 8, 8,\n",
    "               8, 8, 8, 8, 8,\n",
    "               8, 8, 8, 8, 8,\n",
    "               8, 7, 7, 7, 7,\n",
    "               7, 7, 7, 7, 7,\n",
    "               7, 7, 7, 7, 7,\n",
    "               7, 6, 6, 6, 6,\n",
    "               6, 6, 6, 6, 6,\n",
    "               6, 6, 6, 6, 6,\n",
    "               6, 6, 6, 6, 6,\n",
    "               6, 6, 6, 5, 5,\n",
    "               5, 5, 5, 5, 5,\n",
    "               5, 5, 5, 5, 5,\n",
    "               5, 5, 5, 5, 5,\n",
    "               4, 4, 4, 4, 4,\n",
    "               4, 4, 4, 4, 4,\n",
    "               4, 4, 4, 4, 4,\n",
    "               4, 4, 4, 4, 4,\n",
    "               3, 3, 3, 3, 3,\n",
    "               3, 3, 3, 3, 3,\n",
    "               3, 3, 3, 3, 3,\n",
    "               3, 3, 3, 3, 3,\n",
    "               2, 2, 2, 2, 2,\n",
    "               2, 2, 2, 2, 2,\n",
    "               2, 2, 2, 2, 2,\n",
    "               2, 2, 1, 1, 1,\n",
    "               1, 1, 1, 1, 1,\n",
    "               1, 1, 1, 1, 1,\n",
    "               1, 1, 1, 1, 1,\n",
    "               1, 1, 1, 1\n",
    "               ]\n",
    "\n",
    "max_friends = max(num_friends)\n",
    "\n",
    "friend_counts = Counter(num_friends)\n",
    "xs = range(101)                         # largest value is 100\n",
    "ys = [friend_counts[x] for x in xs]     # height is just # of friends\n",
    "max_y = max(ys)\n",
    "plt.bar(xs, ys)\n",
    "plt.axis([0, 101, 0, max_y])\n",
    "plt.title(\"Histogram of Friend Counts\")\n",
    "plt.xlabel(\"# of friends\")\n",
    "plt.ylabel(\"# of people\")\n",
    "plt.show()\n",
    "\n",
    "num_points = len(num_friends)       # 204\n",
    "largest_value = max(num_friends)    # 100\n",
    "smallest_value = min(num_friends)   # 1\n",
    "print(num_points)\n",
    "print(largest_value)\n",
    "print(smallest_value)\n",
    "\n",
    "sorted_values = sorted(num_friends)\n",
    "smallest_values = sorted_values[0]      # 1\n",
    "second_smallest_value = sorted_values[1]    # 1\n",
    "second_largest_value = sorted_values[-2]    # 49\n",
    "print(smallest_values)\n",
    "print(second_smallest_value)\n",
    "print(second_largest_value)\n"
   ]
  },
  {
   "cell_type": "code",
   "execution_count": null,
   "metadata": {},
   "outputs": [],
   "source": []
  }
 ],
 "metadata": {
  "kernelspec": {
   "display_name": "Python 3",
   "language": "python",
   "name": "python3"
  },
  "language_info": {
   "codemirror_mode": {
    "name": "ipython",
    "version": 3
   },
   "file_extension": ".py",
   "mimetype": "text/x-python",
   "name": "python",
   "nbconvert_exporter": "python",
   "pygments_lexer": "ipython3",
   "version": "3.7.1"
  }
 },
 "nbformat": 4,
 "nbformat_minor": 2
}

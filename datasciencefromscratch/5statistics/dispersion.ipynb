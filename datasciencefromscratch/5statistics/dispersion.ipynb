{
 "cells": [
  {
   "cell_type": "code",
   "execution_count": 29,
   "metadata": {},
   "outputs": [
    {
     "name": "stdout",
     "output_type": "stream",
     "text": [
      "99\n",
      "81.54351395730716\n",
      "9.03014473623248\n",
      "6\n"
     ]
    }
   ],
   "source": [
    "# %load dispersion.py\n",
    "import sys\n",
    "import re\n",
    "path_to_repo = re.sub('5statistics', '', sys.path[0])\n",
    "sys.path.insert(0, path_to_repo + '4linearalgebra')\n",
    "from vectors import sum_of_squares\n",
    "from centraltendencies import num_friends, mean, quantile\n",
    "import math\n",
    "\n",
    "# \"range\" already means something in Python, so we'll use a different name\n",
    "def data_range(x):\n",
    "    return max(x) - min(x)\n",
    "\n",
    "print(data_range(num_friends)) # 99\n",
    "\n",
    "def de_mean(x):\n",
    "    \"\"\"translate x by subtracting its mean (so the result has mean 0)\"\"\"\n",
    "    x_bar = mean(x)\n",
    "    return [x_i - x_bar for x_i in x]\n",
    "\n",
    "def variance(x):\n",
    "    \"\"\"assumes x has at lease two elements\"\"\"\n",
    "    n = len(x)\n",
    "    deviations = de_mean(x)                     # these n vectors are linearly dependent and the maximally l.i. subset has n-1 vectors\n",
    "    return sum_of_squares(deviations) / (n - 1) # so we do the following correction (Bessel's correction)\n",
    "\n",
    "print(variance(num_friends))   # 81.54\n",
    "\n",
    "def standard_deviation(x):\n",
    "    return math.sqrt(variance(x))\n",
    "\n",
    "print(standard_deviation(num_friends)) # 9.03\n",
    "\n",
    "def interquantile_range(x):\n",
    "    return quantile(x, 0.75) - quantile(x, 0.25)\n",
    "\n",
    "print(interquantile_range(num_friends)) # 6"
   ]
  },
  {
   "cell_type": "code",
   "execution_count": null,
   "metadata": {},
   "outputs": [],
   "source": []
  },
  {
   "cell_type": "code",
   "execution_count": null,
   "metadata": {},
   "outputs": [],
   "source": []
  },
  {
   "cell_type": "code",
   "execution_count": null,
   "metadata": {},
   "outputs": [],
   "source": []
  }
 ],
 "metadata": {
  "kernelspec": {
   "display_name": "Python 3",
   "language": "python",
   "name": "python3"
  },
  "language_info": {
   "codemirror_mode": {
    "name": "ipython",
    "version": 3
   },
   "file_extension": ".py",
   "mimetype": "text/x-python",
   "name": "python",
   "nbconvert_exporter": "python",
   "pygments_lexer": "ipython3",
   "version": "3.7.1"
  }
 },
 "nbformat": 4,
 "nbformat_minor": 2
}

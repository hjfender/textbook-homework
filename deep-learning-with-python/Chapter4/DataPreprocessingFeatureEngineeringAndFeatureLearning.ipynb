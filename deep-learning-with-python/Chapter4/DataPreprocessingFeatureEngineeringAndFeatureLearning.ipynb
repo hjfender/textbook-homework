{
 "cells": [
  {
   "cell_type": "markdown",
   "metadata": {},
   "source": [
    "How do you prepare input data and targets before training?\n",
    "\n",
    "Many data-preprocessing and feature-engineering techniques are domain specific, but the following are common to all data domains..."
   ]
  },
  {
   "cell_type": "markdown",
   "metadata": {},
   "source": [
    "### Vectorization"
   ]
  },
  {
   "cell_type": "markdown",
   "metadata": {},
   "source": [
    "Transforming the data that needs to be processed into a tensor of floating-point data."
   ]
  },
  {
   "cell_type": "markdown",
   "metadata": {},
   "source": [
    "### Value Normalization"
   ]
  },
  {
   "cell_type": "markdown",
   "metadata": {},
   "source": [
    "Rescaling or shifting data to a more convenient distribution (i.e. 0 to 255 color values into 0 to 1 scale, etc)\n",
    "\n",
    "In general, it isn't safe to feed into a neural network data that takes relatively large values or data that is heterogeneous. This can trigger large gradient updates that prevent the network from converging.\n",
    "\n",
    "To foster easier learning, follow these guidelines:\n",
    "- *Take small values*: 0-1 if possible\n",
    "- *Be homogenous*: All features should take values in roughly the same range.\n",
    "\n",
    "Some stricter guidelines that are common but are not always necessary:\n",
    "- Normalize each feature independently to have mean of 0\n",
    "- Normalize each feature independently to have a standard deviation of 1"
   ]
  },
  {
   "cell_type": "markdown",
   "metadata": {},
   "source": [
    "### Handling Missing Values"
   ]
  },
  {
   "cell_type": "markdown",
   "metadata": {},
   "source": [
    "In general, with neural networks it's safe to input missing values as 0, with the condition that 0 isn't already a meaningful value. The network will learn from exposure to the data that the value 0 means missing data and will start ignoring the value.\n",
    "\n",
    "If you are expecting missing values in the test data but didn't train the network on any examples with missing data, you should go back an artificially create some examples with missing data."
   ]
  },
  {
   "cell_type": "markdown",
   "metadata": {},
   "source": [
    "### Feature Engineering"
   ]
  },
  {
   "cell_type": "markdown",
   "metadata": {},
   "source": [
    "Process of using your own knowledge about the data and about the machine-learning algorithm at hand to make the algorithm work better by applying hardcoded transformations to the data before it goes into the model.\n",
    "\n",
    "*Example*: Reading a Clock-Face. Don't feed the whole image as data into the model. Do some preprocessing to find the coordinates of the ends of the clockhands and feed that instead.\n",
    "\n",
    "- Good features allow you to solve problems more elegantly while using fewer resources.\n",
    "- Good features let you solve a problem with far less data."
   ]
  }
 ],
 "metadata": {
  "language_info": {
   "name": "python"
  }
 },
 "nbformat": 4,
 "nbformat_minor": 2
}
